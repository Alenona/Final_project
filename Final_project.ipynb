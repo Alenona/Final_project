{
 "cells": [
  {
   "cell_type": "markdown",
   "id": "a72923c8-4386-4cbf-9666-f45a16cbd713",
   "metadata": {},
   "source": [
    "# Задание 1. Анализ результатов A/B-теста для оценки эффективности новой механики оплаты услуг"
   ]
  },
  {
   "cell_type": "markdown",
   "id": "82cc346e-1495-4cad-ba49-96b62821e009",
   "metadata": {},
   "source": [
    "Имеются данные о посещениях платформы и оплатах в контрольной(А) и тестовой(В) группах. Чтобы понять, стоит ли внедрять новую механику оплаты, можно сравнить следующие метрики: **ARPPU**(средний чек покупателя), **ARPU**(средний чек пользователя) и **CR**(конверсию пользователя в покупателя).\n",
    "Все эти метрики могли поменяться при изменении способа оплаты, ожидаем положительный рост."
   ]
  },
  {
   "cell_type": "markdown",
   "id": "06d026e8-dd68-4ea8-b647-e672ad7e6c00",
   "metadata": {},
   "source": [
    "## Загрузка данных"
   ]
  },
  {
   "cell_type": "markdown",
   "id": "85544627-86b3-403a-832b-9063520fbfc4",
   "metadata": {},
   "source": [
    "Импортируем необходимые библиотеки, загружаем датасеты, объединяем их в один датафрейм."
   ]
  },
  {
   "cell_type": "code",
   "execution_count": 75,
   "id": "bb3adc5c-a710-48b7-8f26-f8ec37f2fd48",
   "metadata": {},
   "outputs": [],
   "source": [
    "import pandas as pd\n",
    "import seaborn as sns\n",
    "import matplotlib.pyplot as plt\n",
    "from scipy.stats import mannwhitneyu, bootstrap, chi2_contingency\n",
    "import numpy as np"
   ]
  },
  {
   "cell_type": "code",
   "execution_count": 76,
   "id": "b654d162-dacc-43b4-99a8-97647b5952b6",
   "metadata": {},
   "outputs": [],
   "source": [
    "groups       = pd.read_csv('Проект_2_groups.csv', sep=';')\n",
    "group_add    = pd.read_csv('Проект_2_group_add.csv')\n",
    "active_studs = pd.read_csv('Проект_2_active_studs.csv')\n",
    "checks       = pd.read_csv('Проект_2_checks.csv', sep=';')"
   ]
  },
  {
   "cell_type": "code",
   "execution_count": 77,
   "id": "797fbc1e-2779-404f-8d4c-89afa30a2d53",
   "metadata": {},
   "outputs": [],
   "source": [
    "all_studs_data = active_studs.merge(pd.concat([groups, group_add]), left_on='student_id', right_on='id', how='left')\\\n",
    "                            .merge(checks, on='student_id', how='left').drop(columns={'id'})"
   ]
  },
  {
   "cell_type": "code",
   "execution_count": 78,
   "id": "e677ce26-3697-4d19-ba54-888965735f73",
   "metadata": {},
   "outputs": [
    {
     "data": {
      "text/html": [
       "<div>\n",
       "<style scoped>\n",
       "    .dataframe tbody tr th:only-of-type {\n",
       "        vertical-align: middle;\n",
       "    }\n",
       "\n",
       "    .dataframe tbody tr th {\n",
       "        vertical-align: top;\n",
       "    }\n",
       "\n",
       "    .dataframe thead th {\n",
       "        text-align: right;\n",
       "    }\n",
       "</style>\n",
       "<table border=\"1\" class=\"dataframe\">\n",
       "  <thead>\n",
       "    <tr style=\"text-align: right;\">\n",
       "      <th></th>\n",
       "      <th>student_id</th>\n",
       "      <th>grp</th>\n",
       "      <th>rev</th>\n",
       "    </tr>\n",
       "  </thead>\n",
       "  <tbody>\n",
       "    <tr>\n",
       "      <th>917</th>\n",
       "      <td>576780</td>\n",
       "      <td>B</td>\n",
       "      <td>NaN</td>\n",
       "    </tr>\n",
       "    <tr>\n",
       "      <th>4381</th>\n",
       "      <td>219281</td>\n",
       "      <td>B</td>\n",
       "      <td>NaN</td>\n",
       "    </tr>\n",
       "    <tr>\n",
       "      <th>1501</th>\n",
       "      <td>5625493</td>\n",
       "      <td>B</td>\n",
       "      <td>NaN</td>\n",
       "    </tr>\n",
       "  </tbody>\n",
       "</table>\n",
       "</div>"
      ],
      "text/plain": [
       "      student_id grp  rev\n",
       "917       576780   B  NaN\n",
       "4381      219281   B  NaN\n",
       "1501     5625493   B  NaN"
      ]
     },
     "execution_count": 78,
     "metadata": {},
     "output_type": "execute_result"
    }
   ],
   "source": [
    "all_studs_data.sample(3)"
   ]
  },
  {
   "cell_type": "markdown",
   "id": "6dd970a9-067b-4ff3-b299-5789e71e44cb",
   "metadata": {},
   "source": [
    "## Анализ данных"
   ]
  },
  {
   "cell_type": "markdown",
   "id": "0f1b2420-6a14-490b-9d80-5ed1bbf58601",
   "metadata": {},
   "source": [
    "Посмотрим на интересующие нас метрики в зависимости от группы."
   ]
  },
  {
   "cell_type": "code",
   "execution_count": 81,
   "id": "3673b8dd-9e11-40d0-a09e-9cf11d3eba56",
   "metadata": {},
   "outputs": [
    {
     "data": {
      "text/html": [
       "<div>\n",
       "<style scoped>\n",
       "    .dataframe tbody tr th:only-of-type {\n",
       "        vertical-align: middle;\n",
       "    }\n",
       "\n",
       "    .dataframe tbody tr th {\n",
       "        vertical-align: top;\n",
       "    }\n",
       "\n",
       "    .dataframe thead th {\n",
       "        text-align: right;\n",
       "    }\n",
       "</style>\n",
       "<table border=\"1\" class=\"dataframe\">\n",
       "  <thead>\n",
       "    <tr style=\"text-align: right;\">\n",
       "      <th></th>\n",
       "      <th>группа</th>\n",
       "      <th>выручка</th>\n",
       "      <th>количество покупателей</th>\n",
       "      <th>количество пользователей</th>\n",
       "      <th>CR</th>\n",
       "      <th>ARPPU</th>\n",
       "      <th>ARPU</th>\n",
       "    </tr>\n",
       "  </thead>\n",
       "  <tbody>\n",
       "    <tr>\n",
       "      <th>0</th>\n",
       "      <td>A</td>\n",
       "      <td>72820.0000</td>\n",
       "      <td>78</td>\n",
       "      <td>1538</td>\n",
       "      <td>0.050715</td>\n",
       "      <td>933.589744</td>\n",
       "      <td>47.347204</td>\n",
       "    </tr>\n",
       "    <tr>\n",
       "      <th>1</th>\n",
       "      <td>B</td>\n",
       "      <td>394974.0035</td>\n",
       "      <td>314</td>\n",
       "      <td>6803</td>\n",
       "      <td>0.046156</td>\n",
       "      <td>1257.878992</td>\n",
       "      <td>58.058798</td>\n",
       "    </tr>\n",
       "  </tbody>\n",
       "</table>\n",
       "</div>"
      ],
      "text/plain": [
       "  группа      выручка  количество покупателей  количество пользователей  \\\n",
       "0      A   72820.0000                      78                      1538   \n",
       "1      B  394974.0035                     314                      6803   \n",
       "\n",
       "         CR        ARPPU       ARPU  \n",
       "0  0.050715   933.589744  47.347204  \n",
       "1  0.046156  1257.878992  58.058798  "
      ]
     },
     "execution_count": 81,
     "metadata": {},
     "output_type": "execute_result"
    }
   ],
   "source": [
    "grouped = all_studs_data.groupby('grp', as_index=False).agg({'rev': ['sum', 'count'], 'student_id': 'count'})\n",
    "grouped.columns = ['группа', 'выручка', 'количество покупателей', 'количество пользователей']\n",
    "grouped['CR'] = grouped['количество покупателей']/grouped['количество пользователей']\n",
    "grouped['ARPPU'] = grouped['выручка']/grouped['количество покупателей']\n",
    "grouped['ARPU'] = grouped['выручка']/grouped['количество пользователей']\n",
    "grouped"
   ]
  },
  {
   "cell_type": "markdown",
   "id": "c74f4c63-37bf-4858-8863-59c575da82b1",
   "metadata": {},
   "source": [
    "Видно, что CR уменьшился, а ARPPU и ARPU увеличились. Проверим, являются ли изменения статистически значимыми."
   ]
  },
  {
   "cell_type": "markdown",
   "id": "55cd29e3-7380-4dcd-a459-73944e20fc33",
   "metadata": {},
   "source": [
    "Посмотрим на распределение чеков:"
   ]
  },
  {
   "cell_type": "code",
   "execution_count": 84,
   "id": "ed3e976d-a13a-475c-b7da-0f0c84cf7c61",
   "metadata": {},
   "outputs": [
    {
     "data": {
      "text/plain": [
       "<Axes: xlabel='rev', ylabel='Count'>"
      ]
     },
     "execution_count": 84,
     "metadata": {},
     "output_type": "execute_result"
    },
    {
     "data": {
      "image/png": "[encoded data removed]",
      "text/plain": [
       "<Figure size 640x480 with 1 Axes>"
      ]
     },
     "metadata": {},
     "output_type": "display_data"
    }
   ],
   "source": [
    "sns.histplot(data=all_studs_data, x='rev', hue='grp', bins=30)"
   ]
  },
  {
   "cell_type": "markdown",
   "id": "4995f41c-2bb5-42fa-a656-fdf3cd1b6a58",
   "metadata": {},
   "source": [
    "Видно, что распределения не являются нормальными. Хотим сравнивать именно средние значения, поэтому воспользуемся бутстрапом."
   ]
  },
  {
   "cell_type": "markdown",
   "id": "4bacd67c-8ce5-448c-b998-93c313fe42bd",
   "metadata": {},
   "source": [
    "## Тестирование"
   ]
  },
  {
   "cell_type": "code",
   "execution_count": 87,
   "id": "ccf3bde5-855f-4302-b3a3-5da9a40a2d73",
   "metadata": {},
   "outputs": [],
   "source": [
    "# Функция, которая будет вычитать среднее одной выборки из среднего другой\n",
    "def mean_for_bootstrap(sample1, sample2, axis=-1):\n",
    "    mean1 = np.mean(sample1, axis=axis)\n",
    "    mean2 = np.mean(sample2, axis=axis)\n",
    "    return mean1 - mean2"
   ]
  },
  {
   "cell_type": "code",
   "execution_count": 88,
   "id": "a2ee7391-371d-424b-aaf3-3860d472193b",
   "metadata": {},
   "outputs": [
    {
     "data": {
      "text/plain": [
       "BootstrapResult(confidence_interval=ConfidenceInterval(low=-549.1706651286131, high=-104.2061120369915), bootstrap_distribution=array([-539.38413498, -219.14821899, -210.44799575, ..., -490.68137458,\n",
       "       -285.39589711, -338.58665519]), standard_error=112.98430502832383)"
      ]
     },
     "execution_count": 88,
     "metadata": {},
     "output_type": "execute_result"
    }
   ],
   "source": [
    "# Сравниваем средние для покупателей(ARPPU)\n",
    "bootstrap((all_studs_data[(all_studs_data.grp=='A')&(all_studs_data.rev.notna())].rev, \n",
    "           all_studs_data[(all_studs_data.grp=='B')&(all_studs_data.rev.notna())].rev), mean_for_bootstrap, method='basic')"
   ]
  },
  {
   "cell_type": "markdown",
   "id": "9f24025f-b203-447a-b664-19be305e75b6",
   "metadata": {},
   "source": [
    "Итак, доверительный интервал разницы между средними значениями групп А и В: (low=-553.6981480401763, high=-112.26815844888108).\n",
    "То есть, средние действительно статистически значимо различаются. **ARPPU вырос**."
   ]
  },
  {
   "cell_type": "code",
   "execution_count": 90,
   "id": "1db145eb-39a4-4bb2-abe5-05dc06b021cc",
   "metadata": {},
   "outputs": [],
   "source": [
    "filled_all_studs_data = all_studs_data.copy()\n",
    "filled_all_studs_data['rev'] = filled_all_studs_data['rev'].fillna(0)"
   ]
  },
  {
   "cell_type": "code",
   "execution_count": 91,
   "id": "d5294cd0-44ec-469b-972d-34848a6f6405",
   "metadata": {},
   "outputs": [
    {
     "data": {
      "text/plain": [
       "BootstrapResult(confidence_interval=ConfidenceInterval(low=-28.262444811488322, high=4.985451253578564), bootstrap_distribution=array([ -5.4678448 , -12.90621105, -17.81440824, ...,   0.16344504,\n",
       "         2.00592552, -11.36444364]), standard_error=8.414162459457863)"
      ]
     },
     "execution_count": 91,
     "metadata": {},
     "output_type": "execute_result"
    }
   ],
   "source": [
    "# Сравниваем средние для пользователей(ARPU)\n",
    "bootstrap((filled_all_studs_data[filled_all_studs_data.grp=='A'].rev, \n",
    "           filled_all_studs_data[filled_all_studs_data.grp=='B'].rev), mean_for_bootstrap, method='basic')"
   ]
  },
  {
   "cell_type": "markdown",
   "id": "3b3978e3-a2ff-41be-9f61-bbe7fac8601e",
   "metadata": {},
   "source": [
    "Теперь доверительный интервал разницы между средними значениями для групп А и В (low=-27.27458676880771, high=5.188941964940511). Значит, нельзя сказать, что изменения статистически значимы. **ARPU статистически значимо не вырос**."
   ]
  },
  {
   "cell_type": "markdown",
   "id": "91325e76-cdea-4962-91b3-7fbb3b11cd63",
   "metadata": {},
   "source": [
    "Теперь посмотрим на конверсию в покупку. Для этого сравним количество покупателей и пользователей в группах А и В. \n",
    "Воспользуемся критерием хи-квадрат.\n",
    "Нулевая гипотеза: доля покупателей от всех пользователей не зависит от группы. "
   ]
  },
  {
   "cell_type": "code",
   "execution_count": 94,
   "id": "1758c013-5495-494e-8206-fa87320c3916",
   "metadata": {},
   "outputs": [
    {
     "data": {
      "text/html": [
       "<div>\n",
       "<style scoped>\n",
       "    .dataframe tbody tr th:only-of-type {\n",
       "        vertical-align: middle;\n",
       "    }\n",
       "\n",
       "    .dataframe tbody tr th {\n",
       "        vertical-align: top;\n",
       "    }\n",
       "\n",
       "    .dataframe thead th {\n",
       "        text-align: right;\n",
       "    }\n",
       "</style>\n",
       "<table border=\"1\" class=\"dataframe\">\n",
       "  <thead>\n",
       "    <tr style=\"text-align: right;\">\n",
       "      <th></th>\n",
       "      <th>grp</th>\n",
       "      <th>buyers</th>\n",
       "      <th>users</th>\n",
       "    </tr>\n",
       "  </thead>\n",
       "  <tbody>\n",
       "    <tr>\n",
       "      <th>0</th>\n",
       "      <td>A</td>\n",
       "      <td>78</td>\n",
       "      <td>1538</td>\n",
       "    </tr>\n",
       "    <tr>\n",
       "      <th>1</th>\n",
       "      <td>B</td>\n",
       "      <td>314</td>\n",
       "      <td>6803</td>\n",
       "    </tr>\n",
       "  </tbody>\n",
       "</table>\n",
       "</div>"
      ],
      "text/plain": [
       "  grp  buyers  users\n",
       "0   A      78   1538\n",
       "1   B     314   6803"
      ]
     },
     "execution_count": 94,
     "metadata": {},
     "output_type": "execute_result"
    }
   ],
   "source": [
    "cr = all_studs_data.groupby('grp', as_index=False).agg({'rev': 'count', 'student_id': 'count'})\\\n",
    "                   .rename(columns={'rev': 'buyers', 'student_id': 'users'})\n",
    "cr"
   ]
  },
  {
   "cell_type": "code",
   "execution_count": 95,
   "id": "58098aee-2474-47bf-84ad-29f8378c4adf",
   "metadata": {},
   "outputs": [
    {
     "name": "stdout",
     "output_type": "stream",
     "text": [
      "Хи-квадрат статистика: 0.43612258061018483, p-значение: 0.5089998823014525\n"
     ]
    }
   ],
   "source": [
    "chi2, p, dof, expected = chi2_contingency(cr[['buyers', 'users']].values)\n",
    "print(f\"Хи-квадрат статистика: {chi2}, p-значение: {p}\")"
   ]
  },
  {
   "cell_type": "markdown",
   "id": "c5e11f6a-3c3e-4146-9f70-83f416e4ffda",
   "metadata": {},
   "source": [
    "P-value=0.5089998823014525 > 0.05, следовательно, нельзя опровергнуть нулевую гипотезу. **CR уменьшился не статистически значимо**."
   ]
  },
  {
   "cell_type": "markdown",
   "id": "974e715f-2b25-4ed4-bb7b-05dd464279a9",
   "metadata": {},
   "source": [
    " "
   ]
  },
  {
   "cell_type": "markdown",
   "id": "5f3b851f-9641-410b-a068-280326e68734",
   "metadata": {},
   "source": [
    "## Выводы "
   ]
  },
  {
   "cell_type": "markdown",
   "id": "e9d0d96e-59d1-4cd8-8820-81c15aac1b51",
   "metadata": {},
   "source": [
    "Изменения в механизме оплаты привели к увеличению среднего чека покупателя(ARPPU). Новый механизм заставляет покупателя увеличить сумму покупки. Однако средний чек пользователя(ARPU) увеличился незначительно. Поскольку средний чек пользователя и средний чек покупателя связаны формулой *ARPU = CR⋅ARPPU*, то отсутствие роста ARPU можно объяснить снижением(хоть и незначительным) конверсии пользователя в покупателя(CR).\n",
    "Для увеличения прибыли необходимо, чтобы новый механизм оплаты не только увеличивал сумму покупки, но и количество покупателей.\n",
    "\n",
    "Тем не менее, ARPPU вырос, остальные показатели не поменялись, значит, можно внедрять новую систему."
   ]
  },
  {
   "cell_type": "markdown",
   "id": "9711bf60-49e6-4e6e-811e-203e524eb6cd",
   "metadata": {},
   "source": [
    "# Задание 3. Функции загрузки доп. информации, подсчёта метрик и построения графиков"
   ]
  },
  {
   "cell_type": "code",
   "execution_count": 101,
   "id": "a188c318-97e7-42e4-b6ac-6b7398bb0ba5",
   "metadata": {},
   "outputs": [],
   "source": [
    "# Функция, на вход которой подается старая информация, желаемые метрики и группы.\n",
    "def add_info(groups, active_studs, checks, metrics=['ARPU', 'ARPPU', 'CR'], which_group=['A', 'B', 'ALL']):\n",
    "    \n",
    "    group_add = pd.read_csv('group_add.csv') # считываем новую информацию\n",
    "    group_add.columns = ['id', 'grp'] # если заголовки отличаются\n",
    "    # так же, как и первом задании, объединяем датафреймы\n",
    "    groups = pd.concat([groups, group_add])\n",
    "    all_studs_data = active_studs.merge(groups, left_on='student_id', right_on='id', how='left')\\\n",
    "                            .merge(checks, on='student_id', how='left').drop(columns={'id'})\n",
    "    # считаем все метрики для всех групп\n",
    "    grouped = all_studs_data.groupby('grp').agg({'rev': ['sum', 'count'], 'student_id': 'count'})\n",
    "    grouped.columns = ['выручка', 'количество покупателей', 'количество пользователей']\n",
    "    grouped.loc['ALL'] = grouped.loc['A']+grouped.loc['B']\n",
    "    grouped['CR'] = grouped['количество покупателей']/grouped['количество пользователей']\n",
    "    grouped['ARPPU'] = grouped['выручка']/grouped['количество покупателей']\n",
    "    grouped['ARPU'] = grouped['выручка']/grouped['количество пользователей']\n",
    "    # возвращаем таблицу с желаемыми метриками и группами\n",
    "    return grouped[metrics].loc[which_group]"
   ]
  },
  {
   "cell_type": "code",
   "execution_count": 102,
   "id": "caf9543a-4dfd-42e7-a41c-0aec621fb465",
   "metadata": {},
   "outputs": [
    {
     "data": {
      "text/html": [
       "<div>\n",
       "<style scoped>\n",
       "    .dataframe tbody tr th:only-of-type {\n",
       "        vertical-align: middle;\n",
       "    }\n",
       "\n",
       "    .dataframe tbody tr th {\n",
       "        vertical-align: top;\n",
       "    }\n",
       "\n",
       "    .dataframe thead th {\n",
       "        text-align: right;\n",
       "    }\n",
       "</style>\n",
       "<table border=\"1\" class=\"dataframe\">\n",
       "  <thead>\n",
       "    <tr style=\"text-align: right;\">\n",
       "      <th></th>\n",
       "      <th>ARPU</th>\n",
       "      <th>ARPPU</th>\n",
       "      <th>CR</th>\n",
       "    </tr>\n",
       "    <tr>\n",
       "      <th>grp</th>\n",
       "      <th></th>\n",
       "      <th></th>\n",
       "      <th></th>\n",
       "    </tr>\n",
       "  </thead>\n",
       "  <tbody>\n",
       "    <tr>\n",
       "      <th>A</th>\n",
       "      <td>47.347204</td>\n",
       "      <td>933.589744</td>\n",
       "      <td>0.050715</td>\n",
       "    </tr>\n",
       "    <tr>\n",
       "      <th>B</th>\n",
       "      <td>58.058798</td>\n",
       "      <td>1257.878992</td>\n",
       "      <td>0.046156</td>\n",
       "    </tr>\n",
       "    <tr>\n",
       "      <th>ALL</th>\n",
       "      <td>56.083683</td>\n",
       "      <td>1193.352050</td>\n",
       "      <td>0.046997</td>\n",
       "    </tr>\n",
       "  </tbody>\n",
       "</table>\n",
       "</div>"
      ],
      "text/plain": [
       "          ARPU        ARPPU        CR\n",
       "grp                                  \n",
       "A    47.347204   933.589744  0.050715\n",
       "B    58.058798  1257.878992  0.046156\n",
       "ALL  56.083683  1193.352050  0.046997"
      ]
     },
     "execution_count": 102,
     "metadata": {},
     "output_type": "execute_result"
    }
   ],
   "source": [
    "# проверим, что всё работает\n",
    "metrics = add_info(groups, active_studs, checks)\n",
    "metrics"
   ]
  },
  {
   "cell_type": "code",
   "execution_count": 103,
   "id": "a0ebc004-2685-45a8-b56d-b8cc7158ce19",
   "metadata": {},
   "outputs": [],
   "source": [
    "# теперь напишем функцию, которая на основе полученной таблицы из функции add_info построит графики метрик.\n",
    "\n",
    "def plots(metrics):\n",
    "    fig, axes = plt.subplots(1, metrics.shape[1], figsize=(15, 5))\n",
    "    colors = ['#1f77b4', '#ff7f0e', '#2ca02c']\n",
    "    \n",
    "    for i, column in enumerate(metrics.columns):\n",
    "        sns.barplot(data=metrics.reset_index(), x='grp', y=column, ax=axes[i], color=colors[i])\n",
    "        axes[i].set_title(column)\n",
    "\n",
    "    plt.tight_layout()\n",
    "    plt.show()"
   ]
  },
  {
   "cell_type": "code",
   "execution_count": 104,
   "id": "5d646046-dd21-44b4-8273-40524b922cd0",
   "metadata": {},
   "outputs": [
    {
     "data": {
      "image/png": "[encoded data removed]",
      "text/plain": [
       "<Figure size 1500x500 with 3 Axes>"
      ]
     },
     "metadata": {},
     "output_type": "display_data"
    }
   ],
   "source": [
    "# проверяем функцию plots\n",
    "plots(metrics)"
   ]
  },
  {
   "cell_type": "markdown",
   "id": "f9dc251e-df3b-4cef-b046-5205e21e55ea",
   "metadata": {},
   "source": [
    "# Задание 2. Подсчёт метрик через SQL-запросы"
   ]
  },
  {
   "cell_type": "markdown",
   "id": "6772316f-8bc9-4263-98f0-37b48203ab90",
   "metadata": {},
   "source": [
    "## 2.1. Очень усердные ученики."
   ]
  },
  {
   "cell_type": "markdown",
   "id": "b621aec2-9927-4af9-b405-fde9294b1151",
   "metadata": {},
   "source": [
    "Подключаемся к ClickHouse через pandahouse. \n",
    "Через pandahouse не получилось, подключаемся через clickhouse_driver."
   ]
  },
  {
   "cell_type": "code",
   "execution_count": 108,
   "id": "8ae6e1d9-0849-4729-ac2b-6caccc78ece6",
   "metadata": {},
   "outputs": [
    {
     "name": "stdout",
     "output_type": "stream",
     "text": [
      "Requirement already satisfied: clickhouse-driver in c:\\users\\aleng\\anaconda3\\lib\\site-packages (0.2.9)\n",
      "Requirement already satisfied: pytz in c:\\users\\aleng\\anaconda3\\lib\\site-packages (from clickhouse-driver) (2024.1)\n",
      "Requirement already satisfied: tzlocal in c:\\users\\aleng\\anaconda3\\lib\\site-packages (from clickhouse-driver) (5.2)\n",
      "Requirement already satisfied: tzdata in c:\\users\\aleng\\anaconda3\\lib\\site-packages (from tzlocal->clickhouse-driver) (2023.3)\n"
     ]
    }
   ],
   "source": [
    "!pip install clickhouse-driver"
   ]
  },
  {
   "cell_type": "code",
   "execution_count": 109,
   "id": "63ecf370-6f8f-4e5c-907f-4e75b452dffa",
   "metadata": {},
   "outputs": [],
   "source": [
    "from clickhouse_driver import Client\n",
    "\n",
    "connection_default = {\n",
    "    'host': 'clickhouse.lab.karpov.courses',\n",
    "    'database': 'default',\n",
    "    'user': 'student',\n",
    "    'password': 'dpo_python_2020'\n",
    "}\n",
    "\n",
    "client = Client(\n",
    "    host=connection_default['host'],\n",
    "    user=connection_default['user'],\n",
    "    password=connection_default['password'],\n",
    "    database=connection_default['database']\n",
    ")"
   ]
  },
  {
   "cell_type": "markdown",
   "id": "995963d3-ccc6-401a-9708-be048747bb60",
   "metadata": {},
   "source": [
    "Первый запрос: считаем количество учеников, у которых не меньше 20 правильных ответов в текущем месяце."
   ]
  },
  {
   "cell_type": "code",
   "execution_count": 181,
   "id": "f5857b43-6dfd-4a29-9caf-878516e033b2",
   "metadata": {},
   "outputs": [],
   "source": [
    "q1 = \"\"\"SELECT COUNT()\n",
    "FROM (\n",
    "SELECT \n",
    "    st_id,\n",
    "    sum(correct) as count_correct_answers\n",
    "FROM default.peas\n",
    "WHERE toStartOfMonth(timest)=(SELECT MAX(toStartOfMonth(timest)) FROM default.peas)\n",
    "GROUP BY st_id\n",
    "HAVING count_correct_answers>=20\n",
    ")\"\"\""
   ]
  },
  {
   "cell_type": "code",
   "execution_count": 183,
   "id": "89f192a4-6489-41e9-b06f-d962e57bfa58",
   "metadata": {},
   "outputs": [
    {
     "data": {
      "text/html": [
       "<div>\n",
       "<style scoped>\n",
       "    .dataframe tbody tr th:only-of-type {\n",
       "        vertical-align: middle;\n",
       "    }\n",
       "\n",
       "    .dataframe tbody tr th {\n",
       "        vertical-align: top;\n",
       "    }\n",
       "\n",
       "    .dataframe thead th {\n",
       "        text-align: right;\n",
       "    }\n",
       "</style>\n",
       "<table border=\"1\" class=\"dataframe\">\n",
       "  <thead>\n",
       "    <tr style=\"text-align: right;\">\n",
       "      <th></th>\n",
       "      <th>0</th>\n",
       "    </tr>\n",
       "  </thead>\n",
       "  <tbody>\n",
       "    <tr>\n",
       "      <th>0</th>\n",
       "      <td>136</td>\n",
       "    </tr>\n",
       "  </tbody>\n",
       "</table>\n",
       "</div>"
      ],
      "text/plain": [
       "     0\n",
       "0  136"
      ]
     },
     "execution_count": 183,
     "metadata": {},
     "output_type": "execute_result"
    }
   ],
   "source": [
    "pd.DataFrame(client.execute(q1))"
   ]
  },
  {
   "cell_type": "markdown",
   "id": "5b6cdd6e-50ff-48ff-84f3-23d92fb2637e",
   "metadata": {},
   "source": [
    "## 2.2. Метрики"
   ]
  },
  {
   "cell_type": "markdown",
   "id": "f0fcc055-05fe-43ca-8a5e-b610ba9c6f81",
   "metadata": {},
   "source": [
    "Соединяем все необходимые таблицы с помощью JOIN, с помощью WITH делаем необходимые подзапросы и используем CASE, чтобы посчитать ARPU, ARPAU, CR в покупку, СR активного пользователя в покупку, CR пользователя из активности по математике (subject = ’math’) в покупку курса по математике."
   ]
  },
  {
   "cell_type": "code",
   "execution_count": 161,
   "id": "8175cfad-5088-4fd0-aa8d-73f094d97535",
   "metadata": {},
   "outputs": [],
   "source": [
    "q2 = \"\"\"WITH \n",
    "    active_users AS (\n",
    "        SELECT st_id\n",
    "        FROM default.peas\n",
    "        GROUP BY st_id\n",
    "        HAVING SUM(correct) >= 10\n",
    "    ),\n",
    "    \n",
    "    paying_users AS (\n",
    "        SELECT st_id\n",
    "        FROM default.final_project_check\n",
    "        GROUP BY st_id\n",
    "        HAVING SUM(money)>0\n",
    "    ),\n",
    "    active_math AS (\n",
    "        SELECT st_id\n",
    "        FROM default.peas\n",
    "        WHERE subject='Math'\n",
    "        GROUP BY st_id\n",
    "        HAVING SUM(correct) >= 2\n",
    "    ),\n",
    "    paying_math AS (\n",
    "        SELECT st_id\n",
    "        FROM default.final_project_check\n",
    "        WHERE subject='Math'\n",
    "        GROUP BY st_id\n",
    "        HAVING SUM(money)>0\n",
    "    )\n",
    "SELECT \n",
    "    B.test_grp AS Group,\n",
    "    SUM(C.money) / COUNT(DISTINCT A.st_id) AS ARPU,\n",
    "    SUM(CASE WHEN A.st_id IN (SELECT st_id FROM active_users) THEN C.money ELSE 0 END) / COUNT(DISTINCT CASE WHEN A.st_id IN (SELECT st_id FROM active_users) THEN A.st_id ELSE NULL END) AS ARPAU,\n",
    "    COUNT(DISTINCT CASE WHEN A.st_id IN (SELECT st_id FROM paying_users) THEN A.st_id ELSE NULL END) / COUNT(DISTINCT A.st_id) AS CR,\n",
    "    COUNT(DISTINCT CASE WHEN A.st_id IN (SELECT st_id FROM paying_users) THEN A.st_id ELSE NULL END) / \n",
    "    COUNT(DISTINCT CASE WHEN A.st_id IN (SELECT st_id FROM active_users) THEN A.st_id ELSE NULL END) AS CR_active,\n",
    "    COUNT(DISTINCT CASE WHEN A.st_id IN (SELECT st_id FROM paying_math) THEN A.st_id ELSE NULL END) / \n",
    "    COUNT(DISTINCT CASE WHEN A.st_id IN (SELECT st_id FROM active_math) THEN A.st_id ELSE NULL END) AS CR_math\n",
    "FROM default.peas AS A\n",
    "FULL JOIN default.final_project_check AS C ON A.st_id = C.st_id\n",
    "JOIN default.studs AS B ON A.st_id = B.st_id\n",
    "GROUP BY B.test_grp\n",
    "\"\"\""
   ]
  },
  {
   "cell_type": "code",
   "execution_count": 163,
   "id": "9fd4794b-9c46-4d3b-84c4-6e23839fe13e",
   "metadata": {},
   "outputs": [],
   "source": [
    "result = client.execute(q2, with_column_types=True)"
   ]
  },
  {
   "cell_type": "code",
   "execution_count": 164,
   "id": "67ecdd19-fda6-46a9-b591-fb52ed765c39",
   "metadata": {},
   "outputs": [],
   "source": [
    "data = [row for row in result[0]] \n",
    "columns = [col[0] for col in result[1]]"
   ]
  },
  {
   "cell_type": "code",
   "execution_count": 167,
   "id": "6bbe35d2-35d0-4d81-a1a9-bacd0bb4403e",
   "metadata": {},
   "outputs": [
    {
     "data": {
      "text/html": [
       "<div>\n",
       "<style scoped>\n",
       "    .dataframe tbody tr th:only-of-type {\n",
       "        vertical-align: middle;\n",
       "    }\n",
       "\n",
       "    .dataframe tbody tr th {\n",
       "        vertical-align: top;\n",
       "    }\n",
       "\n",
       "    .dataframe thead th {\n",
       "        text-align: right;\n",
       "    }\n",
       "</style>\n",
       "<table border=\"1\" class=\"dataframe\">\n",
       "  <thead>\n",
       "    <tr style=\"text-align: right;\">\n",
       "      <th></th>\n",
       "      <th>ARPU</th>\n",
       "      <th>ARPAU</th>\n",
       "      <th>CR</th>\n",
       "      <th>CR_active</th>\n",
       "      <th>CR_math</th>\n",
       "    </tr>\n",
       "    <tr>\n",
       "      <th>Group</th>\n",
       "      <th></th>\n",
       "      <th></th>\n",
       "      <th></th>\n",
       "      <th></th>\n",
       "      <th></th>\n",
       "    </tr>\n",
       "  </thead>\n",
       "  <tbody>\n",
       "    <tr>\n",
       "      <th>control</th>\n",
       "      <td>3.586667e+05</td>\n",
       "      <td>4.345455e+05</td>\n",
       "      <td>0.090909</td>\n",
       "      <td>0.113636</td>\n",
       "      <td>0.163265</td>\n",
       "    </tr>\n",
       "    <tr>\n",
       "      <th>pilot</th>\n",
       "      <td>1.088462e+06</td>\n",
       "      <td>1.510545e+06</td>\n",
       "      <td>0.209790</td>\n",
       "      <td>0.297030</td>\n",
       "      <td>0.380952</td>\n",
       "    </tr>\n",
       "  </tbody>\n",
       "</table>\n",
       "</div>"
      ],
      "text/plain": [
       "                 ARPU         ARPAU        CR  CR_active   CR_math\n",
       "Group                                                             \n",
       "control  3.586667e+05  4.345455e+05  0.090909   0.113636  0.163265\n",
       "pilot    1.088462e+06  1.510545e+06  0.209790   0.297030  0.380952"
      ]
     },
     "execution_count": 167,
     "metadata": {},
     "output_type": "execute_result"
    }
   ],
   "source": [
    "pd.DataFrame(data, columns=columns).set_index('Group')"
   ]
  }
 ],
 "metadata": {
  "kernelspec": {
   "display_name": "Python 3 (ipykernel)",
   "language": "python",
   "name": "python3"
  },
  "language_info": {
   "codemirror_mode": {
    "name": "ipython",
    "version": 3
   },
   "file_extension": ".py",
   "mimetype": "text/x-python",
   "name": "python",
   "nbconvert_exporter": "python",
   "pygments_lexer": "ipython3",
   "version": "3.12.4"
  }
 },
 "nbformat": 4,
 "nbformat_minor": 5
}
